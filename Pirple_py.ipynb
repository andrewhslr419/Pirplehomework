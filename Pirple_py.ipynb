{
  "nbformat": 4,
  "nbformat_minor": 0,
  "metadata": {
    "colab": {
      "name": "Pirple.py",
      "provenance": [],
      "collapsed_sections": [],
      "authorship_tag": "ABX9TyPjA8a2MAYkJmwKolO5wel1",
      "include_colab_link": true
    },
    "kernelspec": {
      "name": "python3",
      "display_name": "Python 3"
    }
  },
  "cells": [
    {
      "cell_type": "markdown",
      "metadata": {
        "id": "view-in-github",
        "colab_type": "text"
      },
      "source": [
        "<a href=\"https://colab.research.google.com/github/andrewhslr419/Pirplehomework/blob/master/Pirple_py.ipynb\" target=\"_parent\"><img src=\"https://colab.research.google.com/assets/colab-badge.svg\" alt=\"Open In Colab\"/></a>"
      ]
    },
    {
      "cell_type": "code",
      "metadata": {
        "id": "b6nE3wgMPRUj",
        "colab_type": "code",
        "colab": {}
      },
      "source": [
        "\n",
        "'''Homework #1 Variables'''\n",
        "\n",
        "'''The following code is an example of Variables'''\n",
        "\n",
        "genre = 'Bluegrass'    #The genre represents the style of music\n",
        "artist = 'Greensky Bluegrass'#Artist name is attributed to the \"artist\" variable \n",
        "song = 'No Idea'  # \"song\" variable relates to the title of the track\n",
        "durationinseconds = 314  #Duration corrisponds to length\n",
        "firstpoint = 2.45 #float variable \n",
        "print(artist)\n",
        "print(song)\n",
        "print(genre)\n",
        "print(durationinseconds)\n",
        "print(firstpoint)"
      ],
      "execution_count": 0,
      "outputs": []
    },
    {
      "cell_type": "markdown",
      "metadata": {
        "id": "quM4TXUMHeKq",
        "colab_type": "text"
      },
      "source": [
        ""
      ]
    },
    {
      "cell_type": "code",
      "metadata": {
        "id": "4UDK3Qhdta02",
        "colab_type": "code",
        "colab": {}
      },
      "source": [
        "def addOne(number):\n",
        "  Output = number + 1\n",
        "  return Output\n",
        "\n",
        "var = 5\n",
        "print(var)\n",
        "\n",
        "var2 = addOne(var)\n",
        "var3 = addOne(var2)\n",
        "var4 = addOne(2.45/6.2)\n",
        "\n",
        "print(var2)\n",
        "print(var3)\n",
        "print(var4)"
      ],
      "execution_count": 0,
      "outputs": []
    },
    {
      "cell_type": "code",
      "metadata": {
        "id": "_c2JcUrl5QXZ",
        "colab_type": "code",
        "colab": {}
      },
      "source": [
        "def addOneAddTwo(NumberOne, NumberTwo):\n",
        "  Output = NumberOne + 1\n",
        "  Output += NumberTwo + 2\n",
        "  return Output\n",
        "\n",
        "Sum = addOneAddTwo(var2,var3)\n",
        "\n",
        "print(Sum)"
      ],
      "execution_count": 0,
      "outputs": []
    },
    {
      "cell_type": "markdown",
      "metadata": {
        "id": "7-MAI4netNWb",
        "colab_type": "text"
      },
      "source": [
        "Homework Assignment #2: Functions\n",
        "\n",
        "\n",
        "Details:\n",
        " \n",
        "Let's return to the music example from assignment one. Pick 3 of the attributes you listed. For our example we're going to say \"Genre\", \"Artist\" and \"Year\". Create a new Python file and create 3 functions with the same name as those attributes. So in this example we'd have one function named \"genre\" another named \"artist\" and another called \"year\".\n",
        "\n",
        "When someone calls any of those functions, that function should return the corresponding value for that attribute. For example, if we call the \"Artist\" function our function would return \"Dave Brubeck\". Yours should return whatever values make sense for your music choice.\n",
        "\n",
        "\n",
        "Extra Credit:\n",
        "\n",
        "One of the data types we haven't covered yet is called \"booleans\". When a variable is set to True or False, that's a boolean. For extra credit, see if you can figure out how to use booleans, and add an extra function that returns a boolean value instead of a String or Number. Hint: make sure to capitalize the first letter in the words True or False when you use them. We'll cover booleans more in the lecture on \"if\" statements coming up next in the course.\n",
        "\n",
        "\n",
        "\n",
        "Turning it In:\n",
        "\n",
        "Zip up your code files and attach them here to receive a grade and continue with the course.\n"
      ]
    },
    {
      "cell_type": "code",
      "metadata": {
        "id": "7hl6rsRNBY9Y",
        "colab_type": "code",
        "outputId": "de3919b2-a4b1-48ef-9fc5-87e91b3b1eef",
        "colab": {
          "base_uri": "https://localhost:8080/",
          "height": 34
        }
      },
      "source": [
        "x = 5\n",
        "y = 10\n",
        "z = 22\n",
        "\n",
        "if x > y:\n",
        "  print('x is greater than y')\n",
        "elif x < z:\n",
        "  print('X is less than Z')\n",
        "else:\n",
        "  print('False')"
      ],
      "execution_count": 0,
      "outputs": [
        {
          "output_type": "stream",
          "text": [
            "X is less than Z\n"
          ],
          "name": "stdout"
        }
      ]
    },
    {
      "cell_type": "code",
      "metadata": {
        "id": "GPY69XjaEpfS",
        "colab_type": "code",
        "outputId": "a1dfe7c5-80e5-4f44-ddb5-9dee0ba9945a",
        "colab": {
          "base_uri": "https://localhost:8080/",
          "height": 51
        }
      },
      "source": [
        "def example():\n",
        "  print('basic function')\n",
        "  z = 3+9\n",
        "  print(z)\n",
        "example()"
      ],
      "execution_count": 0,
      "outputs": [
        {
          "output_type": "stream",
          "text": [
            "basic function\n",
            "12\n"
          ],
          "name": "stdout"
        }
      ]
    },
    {
      "cell_type": "code",
      "metadata": {
        "id": "H2FBoW9lFa3S",
        "colab_type": "code",
        "outputId": "6ecd40b2-7d6b-442d-dacf-4d430e57d1ca",
        "colab": {
          "base_uri": "https://localhost:8080/",
          "height": 51
        }
      },
      "source": [
        "def simple_addition(num1,num2):\n",
        "  answer = num1 + num2\n",
        "  print ('num1 is',num1)\n",
        "  print(answer)\n",
        "simple_addition(5,6)"
      ],
      "execution_count": 0,
      "outputs": [
        {
          "output_type": "stream",
          "text": [
            "num1 is 5\n",
            "11\n"
          ],
          "name": "stdout"
        }
      ]
    },
    {
      "cell_type": "code",
      "metadata": {
        "id": "JOEFhxVdutqU",
        "colab_type": "code",
        "colab": {}
      },
      "source": [
        "def Artist_Call(input):\n",
        "  Output = artist\n",
        "  return Output\n",
        "\n",
        "Artist_Call(artist)\n",
        "\n"
      ],
      "execution_count": 0,
      "outputs": []
    },
    {
      "cell_type": "code",
      "metadata": {
        "id": "ubRgONEJ-wln",
        "colab_type": "code",
        "colab": {}
      },
      "source": [
        "def Genre_call(input):\n",
        "  Output = genre\n",
        "  return Output\n",
        "\n",
        "Genre_call(genre)"
      ],
      "execution_count": 0,
      "outputs": []
    },
    {
      "cell_type": "code",
      "metadata": {
        "id": "m58qO-hj--px",
        "colab_type": "code",
        "colab": {}
      },
      "source": [
        "def Song_call(song):\n",
        "  Output = song\n",
        "  return Output\n",
        "Song_call(song)"
      ],
      "execution_count": 0,
      "outputs": []
    },
    {
      "cell_type": "markdown",
      "metadata": {
        "id": "YUSrWsSMYIjS",
        "colab_type": "text"
      },
      "source": [
        "''Asignment #3 IF statements'''\n"
      ]
    },
    {
      "cell_type": "markdown",
      "metadata": {
        "id": "d-r_jQpvgSje",
        "colab_type": "text"
      },
      "source": [
        "Create a function that accepts 3 parameters and checks for equality between any two of them.\n",
        "\n",
        "Your function should return True if 2 or more of the parameters are equal, and false is none of them are equal to any of the others.\n",
        "\n",
        "\n",
        "Extra Credit:\n",
        "\n",
        "Modify your function so that strings can be compared to integers if they are equivalent. For example, if the following values are passed to your function:\n",
        "\n",
        "6,5,\"5\"\n",
        "\n",
        "You should modify it so that it returns true instead of false.\n",
        "\n",
        "Hint: there's a built in Python function called \"int\" that will help you convert strings to Integers."
      ]
    },
    {
      "cell_type": "code",
      "metadata": {
        "id": "0tdhqWWKYFux",
        "colab_type": "code",
        "colab": {}
      },
      "source": [
        "# click = False\n",
        "# click = True\n",
        "\n",
        "# Like = 0\n",
        "\n",
        "# if click == True:\n",
        "#   Like = Like + 1\n",
        "#   click = False\n",
        "\n",
        "# print(Like)\n",
        "\n",
        "# Temperature = 20\n",
        "# Thermo = 15\n",
        "# print(Thermo)\n",
        "# if Temperature <= 15:\n",
        "#   Thermo = Thermo + 5\n",
        "\n",
        "# print(Thermo)\n",
        "\n",
        "# if Temperature >= 20:\n",
        "#   Thermo = Thermo - 3\n",
        "# print(Thermo)\n",
        "\n",
        "# Time = \"Day\"\n",
        "# Sleepy = True\n",
        "# Pajamas = \"Unknown\"\n",
        "# InBed = True\n",
        "# if Time == \"Night\" or Sleepy == True:    # Or And\n",
        "#   Pajamas = \"On\"\n",
        "#   print(Pajamas)\n",
        "# elif Time == \"Day\" and Sleepy == False:\n",
        "#   print(\"You're in bed bruh\")\n",
        "# else:\n",
        "#   print(\" None of these conditions have been met\")"
      ],
      "execution_count": 0,
      "outputs": []
    },
    {
      "cell_type": "code",
      "metadata": {
        "id": "zcJBHO96YqnN",
        "colab_type": "code",
        "colab": {}
      },
      "source": [
        "Genre = 'Bluegrass'\n",
        "Artist = \"Greensky Bluegrass\"\n",
        "Song = \"No Idea\"\n",
        "\n",
        "if Genre == \"Bluegrass\" and Song == \"No Idea\":\n",
        "  print(\"True, that song is by Greensky Bluegrass.\")\n",
        "elif Song == \"No Idea\" and Artist == \"Greensky Bluegrass\":\n",
        "  print(\"True, these conditions say the genre is Bluegrass.\")\n",
        "elif Song == \"Windshield\" and Genre == 'soul':\n",
        "  print(\"True, Windshield is another great song by Greensky Bluegrass.\")\n",
        "else:\n",
        "  print(\"This statement is False. The conditions have not been met.\")"
      ],
      "execution_count": 0,
      "outputs": []
    },
    {
      "cell_type": "markdown",
      "metadata": {
        "id": "bcArgYb0_AOh",
        "colab_type": "text"
      },
      "source": [
        "Homework Assignment #4: Lists\n",
        "\n",
        "\n",
        "Details:\n",
        " \n",
        "Create a global variable called myUniqueList. It should be an empty list to start.\n",
        "\n",
        "Next, create a function that allows you to add things to that list. Anything that's passed to this function should get added to myUniqueList, unless its value already exists in myUniqueList. If the value doesn't exist already, it should be added and the function should return True. If the value does exist, it should not be added, and the function should return False;\n",
        "\n",
        "Finally, add some code below your function that tests it out. It should add a few different elements, showcasing the different scenarios, and then finally it should print the value of myUniqueList to show that it worked.\n",
        "\n",
        "\n",
        "Extra Credit:\n",
        "\n",
        "Add another function that pushes all the rejected inputs into a separate global array called myLeftovers. If someone tries to add a value to myUniqueList but it's rejected (for non-uniqueness), it should get added to myLeftovers instead.\n",
        "\n"
      ]
    },
    {
      "cell_type": "code",
      "metadata": {
        "id": "VvQdLz7oD8KS",
        "colab_type": "code",
        "outputId": "847e4a1f-de0e-4dbe-bc4a-1ae806eea147",
        "colab": {
          "base_uri": "https://localhost:8080/",
          "height": 119
        }
      },
      "source": [
        "myUniqueList = []\n",
        "myLeftOvers = []\n",
        "\n",
        "def add_num(input):\n",
        "  if input not in myUniqueList:\n",
        "    Output = myUniqueList.append(input)\n",
        "    print('True. Thank you User. Your input was added to myUniqueList')\n",
        "  elif input in myUniqueList:\n",
        "    Output = myLeftOvers.append(input)\n",
        "    print('False. Your input appeares in myUniqueList. Input was added to myLeftOvers')\n",
        "  else:\n",
        "    return(False)\n",
        "  \n",
        "add_num(9)\n",
        "add_num(5)\n",
        "add_num(5)\n",
        "add_num(9)\n",
        "\n",
        "print(myUniqueList)\n",
        "\n",
        "print(myLeftOvers)\n"
      ],
      "execution_count": 0,
      "outputs": [
        {
          "output_type": "stream",
          "text": [
            "True. Thank you User. Your input was added to myUniqueList\n",
            "True. Thank you User. Your input was added to myUniqueList\n",
            "False. Your input appeares in myUniqueList. Input was added to myLeftOvers\n",
            "False. Your input appeares in myUniqueList. Input was added to myLeftOvers\n",
            "[9, 5]\n",
            "[5, 9]\n"
          ],
          "name": "stdout"
        }
      ]
    },
    {
      "cell_type": "code",
      "metadata": {
        "id": "UbR0jnPK3LRz",
        "colab_type": "code",
        "outputId": "2d55b37f-7025-449e-81d7-89f3e241b030",
        "colab": {
          "base_uri": "https://localhost:8080/",
          "height": 68
        }
      },
      "source": [
        "# TestList = [0,1,2]\n",
        "\n",
        "Scores = [70,52,87.5,93,65]\n",
        "# print(Scores[0:])\n",
        "\n",
        "Scores[0] = 75\n",
        "Scores[1] = ['Hello','Bruh']\n",
        "Scores[2:3] = []\n",
        "print(Scores)\n",
        "print(Scores[1][0])\n",
        "\n",
        "Scores.append(82)    #add to end\n",
        "print(Scores)"
      ],
      "execution_count": 0,
      "outputs": [
        {
          "output_type": "stream",
          "text": [
            "[75, ['Hello', 'Bruh'], 93, 65]\n",
            "Hello\n",
            "[75, ['Hello', 'Bruh'], 93, 65, 82]\n"
          ],
          "name": "stdout"
        }
      ]
    },
    {
      "cell_type": "markdown",
      "metadata": {
        "id": "jZyDWFkvaZpN",
        "colab_type": "text"
      },
      "source": [
        "LOOPS\n"
      ]
    },
    {
      "cell_type": "code",
      "metadata": {
        "id": "4TmTKusy4PHw",
        "colab_type": "code",
        "outputId": "ba45b194-4212-4980-8c7c-62c23cf16d70",
        "colab": {
          "base_uri": "https://localhost:8080/",
          "height": 119
        }
      },
      "source": [
        "# word = \"Hello\"\n",
        "# letters = []\n",
        "\n",
        "# for w in word:\n",
        "#   print(w)\n",
        "#   if w == \"e\":\n",
        "#     print(\"suh dude\")\n",
        "#   letters.append(w)\n",
        "\n",
        "# print(letters)\n",
        "\n",
        "# numbers = [1,2,3,4,5]\n",
        "# # 1%2 = 1\n",
        "# # 2%2 = 0\n",
        "# # 3%2 = 1\n",
        "# for l in numbers:\n",
        "#   if l%2 == 1:     #outputs the remainder   %0 prints evens %1 prints odd\n",
        "#     print(l)\n",
        "#   else:\n",
        "#     print(\"this number is even\")\n",
        "\n",
        "# print(numbers)\n",
        "\n",
        "Numbers = []\n",
        "\n",
        "for num in range(-1, -10, -2):   #use to add to a long list of numbers. \n",
        "  Numbers.append(num)            # range x,y,z  X and Y are the range \n",
        "  print(num)                     # Z is the amount you count by\n",
        "\n",
        "print(Numbers)"
      ],
      "execution_count": 0,
      "outputs": [
        {
          "output_type": "stream",
          "text": [
            "-1\n",
            "-3\n",
            "-5\n",
            "-7\n",
            "-9\n",
            "[-1, -3, -5, -7, -9]\n"
          ],
          "name": "stdout"
        }
      ]
    },
    {
      "cell_type": "code",
      "metadata": {
        "id": "tKjZllsUiyPl",
        "colab_type": "code",
        "colab": {}
      },
      "source": [
        "'''WHILE LOOPS'''\n",
        "# while (condition):\n",
        "#   1\n",
        "#   2\n",
        "#   3\n",
        "\n",
        "counter = 1   #counter is a way to remember \n",
        "sum = 0\n",
        "while (counter <= 10):\n",
        "  print(counter)\n",
        "  sum = sum + counter\n",
        "  counter = counter + 1\n",
        "  if (counter >= 40):\n",
        "    print(\"schwing\")\n",
        "    counter = counter + 20\n",
        "  elif (counter == 4):\n",
        "    print(\"This number is 4\")\n",
        "\n",
        "print(sum)\n",
        "\n",
        "letters = ['a','b','c','d','e']\n",
        "\n",
        "Index = 0\n",
        "while (Index < len(letters)):\n",
        "  print(Index)\n",
        "  print(letters[Index])\n",
        "  Index = Index + 1\n",
        "\n",
        "height = 5000\n",
        "velocity = 50\n",
        "time = 0\n",
        "while (height > 0):\n",
        "  height = height - velocity\n",
        "  time = time + 1\n",
        "\n",
        "print(height)\n",
        "print(time)"
      ],
      "execution_count": 0,
      "outputs": []
    },
    {
      "cell_type": "code",
      "metadata": {
        "id": "5IcCP6LvyPcF",
        "colab_type": "code",
        "outputId": "34a51dd3-2258-47ff-b637-e915ca6973c9",
        "colab": {
          "base_uri": "https://localhost:8080/",
          "height": 85
        }
      },
      "source": [
        "# \"\"\"Loops Test Code\"\"\"\n",
        "# # TEST 1\n",
        "# counter = 1\n",
        "# while (counter <= 10):\n",
        "#   print(counter)\n",
        "#   counter = counter + 1\n",
        "\n",
        "# # for i in range(2.0): #error: can not find the range on a float\n",
        "#   # print(i)\n",
        "\n",
        "# i = 1\n",
        "# while True:\n",
        "#     if i%3 == 0:\n",
        "#         break\n",
        "#     print(i)\n",
        "#     i += 1\n",
        "\n",
        "# x = 'abcd'  # retunrs 0 1 2 3  the place holder for each letter in the string\n",
        "# for i in range(len(x)):\n",
        "#     print(i)\n",
        "\n",
        "## TEST 2\n",
        "# length = 3\n",
        "# for pos in range(1,3):\n",
        "#   print(\"c\"*pos)\n",
        "\n",
        "# Length = 3                   \n",
        "# ToPrint = \"a\"                 \n",
        "# for pos in range(1, Length + 1): \n",
        "#     print(ToPrint*pos)         \n",
        "   \n",
        "# for pos in range(Length, 0, -1):\n",
        "#     print(ToPrint*pos)\n",
        "\n",
        "# for row in range(5):                           \n",
        "#     if row%2 == 0:                 \n",
        "#         print(row)\n",
        "\n",
        "# x = 2\n",
        "# for i in range(x):\n",
        "#       for j in range(x):\n",
        "#             a = x - j + i\n",
        "#             print(a)\n",
        "\n",
        "# f = 1\n",
        "# A = [[1, 2, 3], [2, 3, 4], [3, 4, 5]]\n",
        "# for i in range(0, 3):\n",
        "#      f =f*i\n",
        "#      for j in range(0, 3):\n",
        "#          A[i][j] = f\n",
        "# print(A)"
      ],
      "execution_count": 0,
      "outputs": [
        {
          "output_type": "stream",
          "text": [
            "2\n",
            "1\n",
            "3\n",
            "2\n"
          ],
          "name": "stdout"
        }
      ]
    },
    {
      "cell_type": "markdown",
      "metadata": {
        "id": "tK2wFYiL4mOl",
        "colab_type": "text"
      },
      "source": [
        "Homework Assignment #5: Basic Loops\n",
        "\n",
        "\n",
        "Details:\n",
        " \n",
        "You're about to do an assignment called \"Fizz Buzz\", which is one of the classic programming challenges. It is a favorite for interviewers, and a shocking number of job-applicants can't get it right. But you won't be one of those people. Here are the rules for the assignment (as specified by Imran Gory):\n",
        "\n",
        "Write a program that prints the numbers from 1 to 100.\n",
        "\n",
        "But for multiples of three print \"Fizz\" instead of the number and for the multiples of five print \"Buzz\". If number is prime print \"Prime\"\n",
        "\n",
        "For numbers which are multiples of both three and five print \"FizzBuzz\"."
      ]
    },
    {
      "cell_type": "code",
      "metadata": {
        "id": "ljTpe1an4tMo",
        "colab_type": "code",
        "colab": {}
      },
      "source": [
        "for num in range(1,20):\n",
        "  if num%5==0 and num%3==0:\n",
        "     print(\"FizzBuzz\")\n",
        "  elif num%5==0:\n",
        "     print(\"Fizz\")\n",
        "  elif num%3==0:\n",
        "    print('Buzz')\n",
        "  elif (num % 2) == 1:\n",
        "    print('Prime')\n",
        "  else:\n",
        "    print(num)"
      ],
      "execution_count": 0,
      "outputs": []
    },
    {
      "cell_type": "markdown",
      "metadata": {
        "id": "efgowCkYAZ0_",
        "colab_type": "text"
      },
      "source": [
        "Advanced looping"
      ]
    },
    {
      "cell_type": "code",
      "metadata": {
        "id": "ZzpvM5pL_9Vx",
        "colab_type": "code",
        "outputId": "e6d040e4-54e3-4f97-c2c3-9e582db51991",
        "colab": {
          "base_uri": "https://localhost:8080/",
          "height": 357
        }
      },
      "source": [
        "'''Break statement'''\n",
        "Participants = ['Andrew','Maya','Jon', 'Adrienne', 'Alysha']\n",
        "position = 1\n",
        "# for name in Participants:\n",
        "#   if name == 'Maya':\n",
        "#     print('About to break')\n",
        "#     break                     #break the loop and skip to the next line after the loop\n",
        "#   print('About to increment')\n",
        "#   position = position + 1\n",
        "\n",
        "# print(position)\n",
        "\n",
        "# for currentIndex in range(len(Participants)):\n",
        "#   print(currentIndex)\n",
        "#   if Participants[currentIndex] == \"Adrienne\":\n",
        "#     print(\"Have Breaked\")\n",
        "#     break\n",
        "#   print(\"Not Breaked\")\n",
        "\n",
        "# print(currentIndex+1)\n",
        "\n",
        "'''Continue Statement'''\n",
        "\n",
        "for number in range(10):\n",
        "  if number%3 == 0:\n",
        "    print(number)\n",
        "    print(\"Divisable by 3\")\n",
        "    continue\n",
        "  print(number)\n",
        "  print(\"Not divisable by 3\")"
      ],
      "execution_count": 0,
      "outputs": [
        {
          "output_type": "stream",
          "text": [
            "0\n",
            "Divisable by 3\n",
            "1\n",
            "Not divisable by 3\n",
            "2\n",
            "Not divisable by 3\n",
            "3\n",
            "Divisable by 3\n",
            "4\n",
            "Not divisable by 3\n",
            "5\n",
            "Not divisable by 3\n",
            "6\n",
            "Divisable by 3\n",
            "7\n",
            "Not divisable by 3\n",
            "8\n",
            "Not divisable by 3\n",
            "9\n",
            "Divisable by 3\n"
          ],
          "name": "stdout"
        }
      ]
    },
    {
      "cell_type": "code",
      "metadata": {
        "id": "DnGRktL4IsCu",
        "colab_type": "code",
        "outputId": "0296a7ab-03c4-4801-8dd0-e75d4fc0783f",
        "colab": {
          "base_uri": "https://localhost:8080/",
          "height": 374
        }
      },
      "source": [
        "'''Making Shapes with Loops'''\n",
        "\n",
        "length = 10\n",
        "ToPrint = '>%|<'\n",
        "for pos in range(1,length+1):\n",
        "  print(ToPrint*pos)\n",
        "\n",
        "for pos in range(length,-1,-1):\n",
        "  print(ToPrint*pos)\n"
      ],
      "execution_count": 0,
      "outputs": [
        {
          "output_type": "stream",
          "text": [
            ">%|<\n",
            ">%|<>%|<\n",
            ">%|<>%|<>%|<\n",
            ">%|<>%|<>%|<>%|<\n",
            ">%|<>%|<>%|<>%|<>%|<\n",
            ">%|<>%|<>%|<>%|<>%|<>%|<\n",
            ">%|<>%|<>%|<>%|<>%|<>%|<>%|<\n",
            ">%|<>%|<>%|<>%|<>%|<>%|<>%|<>%|<\n",
            ">%|<>%|<>%|<>%|<>%|<>%|<>%|<>%|<>%|<\n",
            ">%|<>%|<>%|<>%|<>%|<>%|<>%|<>%|<>%|<>%|<\n",
            ">%|<>%|<>%|<>%|<>%|<>%|<>%|<>%|<>%|<>%|<\n",
            ">%|<>%|<>%|<>%|<>%|<>%|<>%|<>%|<>%|<\n",
            ">%|<>%|<>%|<>%|<>%|<>%|<>%|<>%|<\n",
            ">%|<>%|<>%|<>%|<>%|<>%|<>%|<\n",
            ">%|<>%|<>%|<>%|<>%|<>%|<\n",
            ">%|<>%|<>%|<>%|<>%|<\n",
            ">%|<>%|<>%|<>%|<\n",
            ">%|<>%|<>%|<\n",
            ">%|<>%|<\n",
            ">%|<\n",
            "\n"
          ],
          "name": "stdout"
        }
      ]
    },
    {
      "cell_type": "code",
      "metadata": {
        "id": "Yod1uuh9jDLk",
        "colab_type": "code",
        "outputId": "b2d36c32-d599-405a-e3a2-fb99ce3c4284",
        "colab": {
          "base_uri": "https://localhost:8080/",
          "height": 34
        }
      },
      "source": [
        "def printPyr(): \n",
        "    print('  O  ')\n",
        "    print(' OOO ')\n",
        "    print('OOOOO')\n",
        "\n",
        "'''Turn the program from Exercise 2 into a function that takes the height of the pyramid as an\n",
        "input variable, and also the character to be used in the pyramid as another input value.'''\n",
        "\n",
        "\n",
        "\n",
        "\n",
        "\n",
        "'''Modify the program from Exercise 3 to also save the resulting pyramid into an output file. Make\n",
        "the name and relative location of the output file additional input parameters in the function.'''\n",
        "\n"
      ],
      "execution_count": 0,
      "outputs": [
        {
          "output_type": "execute_result",
          "data": {
            "text/plain": [
              "<function __main__.printPyr>"
            ]
          },
          "metadata": {
            "tags": []
          },
          "execution_count": 4
        }
      ]
    },
    {
      "cell_type": "code",
      "metadata": {
        "id": "mFMa3PPpRWh5",
        "colab_type": "code",
        "outputId": "6846d164-2159-493f-cc75-07678e69aaee",
        "colab": {
          "base_uri": "https://localhost:8080/",
          "height": 119
        }
      },
      "source": [
        "'''Nested Loops. tictactoe field'''\n",
        "#  /  /     0\n",
        "#_____      1\n",
        "#  / /      2\n",
        "#_____      3\n",
        "# / /       4\n",
        "\n",
        "for  row in range(5): # 0 1 2 3 4 \n",
        "  if row%2 == 0:\n",
        "    for column in range(1,6): # 1 2 3 4 5\n",
        "      if column%2 == 1:\n",
        "        if column != 5:\n",
        "          print(\" \", end=\"\")\n",
        "        else:\n",
        "          print(\" \")\n",
        "    else:\n",
        "        print(\"|\", end=\"\")\n",
        "  else:\n",
        "    print(\"________\")\n"
      ],
      "execution_count": 0,
      "outputs": [
        {
          "output_type": "stream",
          "text": [
            "   \n",
            "|________\n",
            "   \n",
            "|________\n",
            "   \n",
            "|"
          ],
          "name": "stdout"
        }
      ]
    },
    {
      "cell_type": "markdown",
      "metadata": {
        "id": "Boqy1ne5dRO0",
        "colab_type": "text"
      },
      "source": [
        "Homework Assignment #6: Advanced Loops\n",
        "\n",
        "\n",
        "Details:\n",
        " \n",
        "Create a function that takes in two parameters: rows, and columns, both of which are integers. The function should then proceed to draw a playing board (as in the examples from the lectures) the same number of rows and columns as specified. After drawing the board, your function should return True.\n",
        "\n",
        "\n",
        "Extra Credit:\n",
        "\n",
        "Try to determine the maximum width and height that your terminal and screen can comfortably fit without wrapping. If someone passes a value greater than either maximum, your function should return False."
      ]
    },
    {
      "cell_type": "code",
      "metadata": {
        "id": "MshnUPvZhWad",
        "colab_type": "code",
        "outputId": "0dcafc5a-fa47-493c-b1ef-c6b6b87c1624",
        "colab": {
          "base_uri": "https://localhost:8080/",
          "height": 119
        }
      },
      "source": [
        "for  row in range(5):\n",
        "  if row%2 == 0:\n",
        "    for column in range(1,6):\n",
        "      if column%2 ==1:\n",
        "        if column != 5:\n",
        "          print(' ', end='')\n",
        "        else:\n",
        "          print(' ')\n",
        "      else:\n",
        "        print('|', end='')\n",
        "  else:\n",
        "    print(\"_____\")\n",
        "print(True)"
      ],
      "execution_count": 0,
      "outputs": [
        {
          "output_type": "stream",
          "text": [
            " | | \n",
            "_____\n",
            " | | \n",
            "_____\n",
            " | | \n",
            "True\n"
          ],
          "name": "stdout"
        }
      ]
    },
    {
      "cell_type": "markdown",
      "metadata": {
        "id": "OkMA--iSp-jx",
        "colab_type": "text"
      },
      "source": [
        "SETS\n"
      ]
    },
    {
      "cell_type": "code",
      "metadata": {
        "id": "xUn6ynI-rI0U",
        "colab_type": "code",
        "outputId": "ea655da7-68eb-4151-fadc-e143e04afbc5",
        "colab": {
          "base_uri": "https://localhost:8080/",
          "height": 136
        }
      },
      "source": [
        "'''sets = {\"A\",\"B\",'C','A','D'}   #sets keep track of what values you have, doesnt have to be in order\n",
        "# print(sets)                     # dont care the order\n",
        "# if 'A' in sets:\n",
        "#   print('True')'''\n",
        "\n",
        "CountryList = []\n",
        "for i in range(5):\n",
        "  Country = input('Please enter your country: ')\n",
        "  CountryList.append(Country)\n",
        "\n",
        "CountrySet = set(CountryList)\n",
        "print(CountryList)\n",
        "print(CountrySet)\n",
        "\n",
        "if 'brazil' in CountrySet:\n",
        "  print('Attended')"
      ],
      "execution_count": 0,
      "outputs": [
        {
          "output_type": "stream",
          "text": [
            "Please enter your country: america\n",
            "Please enter your country: america\n",
            "Please enter your country: france\n",
            "Please enter your country: germany\n",
            "Please enter your country: germany\n",
            "['america', 'america', 'france', 'germany', 'germany']\n",
            "{'america', 'france', 'germany'}\n"
          ],
          "name": "stdout"
        }
      ]
    },
    {
      "cell_type": "code",
      "metadata": {
        "id": "_vyK6KObtkeX",
        "colab_type": "code",
        "outputId": "2c73c893-51ad-44de-d347-6570784e6d44",
        "colab": {
          "base_uri": "https://localhost:8080/",
          "height": 51
        }
      },
      "source": [
        "'''DICTIONARIES, a dictionary has a key and corrisponding value, they use curly'''\n",
        "\n",
        "# Dictionary = {'Key':'Value','Key2':'Value2','Key3':'Value3'}\n",
        "CountryDictionary = {}\n",
        "for Country in CountryList:\n",
        "  if Country in CountryDictionary:\n",
        "    CountryDictionary[Country] += 1\n",
        "  else:\n",
        "    CountryDictionary[Country] = 1 #adding key:value pair {'US' : 1}\n",
        "\n",
        "print(CountryDictionary)\n",
        "print(CountrySet)\n"
      ],
      "execution_count": 0,
      "outputs": [
        {
          "output_type": "stream",
          "text": [
            "{'america': 2, 'france': 1, 'germany': 2}\n",
            "{'america', 'france', 'germany'}\n"
          ],
          "name": "stdout"
        }
      ]
    },
    {
      "cell_type": "code",
      "metadata": {
        "id": "2Oq3wUtVwsP0",
        "colab_type": "code",
        "colab": {}
      },
      "source": [
        "BlackShoes = {42:2, 35:3, 12:2, 69:4, 38:0}\n",
        "print(BlackShoes)\n",
        "while(True):       #while(True == True)\n",
        "     purchaseSize = int(input('Which Shoe Size Would You Like to Buy?\\n'))\n",
        "     if purchaseSize < 0:\n",
        "       break \n",
        "     if BlackShoes[purchaseSize] > 0:\n",
        "       BlackShoes[purchaseSize] -= 1\n",
        "     else:\n",
        "       print('Shoes are no longer in stock, bruh')\n",
        "     print(BlackShoes)"
      ],
      "execution_count": 0,
      "outputs": []
    },
    {
      "cell_type": "code",
      "metadata": {
        "id": "Yel96riV3Div",
        "colab_type": "code",
        "colab": {}
      },
      "source": [
        "'''Loops Test'''\n",
        "# dict = {}\n",
        "# dict[1] = 2\n",
        "# dict['1'] = 4\n",
        "# dict[1] += 2\n",
        "# count = 0\n",
        "\n",
        "# for key in dict:\n",
        "#     count += dict[key]\n",
        "\n",
        "# print(count)\n",
        "\n",
        "# s={1,2,3,[4,5]}\n",
        "\n",
        "# s={\"1\",\"2\",\"3\",\"4\",\"5\"}\n",
        "\n",
        "# if \"3\" in s: \n",
        "#     print(\"3\")\n",
        "\n",
        "# for i in range(10):\n",
        "#   print(i)\n",
        "\n"
      ],
      "execution_count": 0,
      "outputs": []
    },
    {
      "cell_type": "markdown",
      "metadata": {
        "id": "qKEsbQt04LeM",
        "colab_type": "text"
      },
      "source": [
        "Homework Assignment #7: Dictionaries and Sets\n",
        "\n",
        "\n",
        "Details:\n",
        " \n",
        "Return to your first homework assignments, when you described your favorite song. Refactor that code so all the variables are held as dictionary keys and value. Then refactor your print statements so that it's a single loop that passes through each item in the dictionary and prints out it's key and then it's value.\n",
        "\n",
        "\n",
        "Extra Credit:\n",
        "\n",
        "Create a function that allows someone to guess the value of any key in the dictionary, and find out if they were right or wrong. This function should accept two parameters: Key and Value. If the key exists in the dictionary and that value is the correct value, then the function should return true. In all other cases, it should return false.\n"
      ]
    },
    {
      "cell_type": "code",
      "metadata": {
        "id": "T5E6XWOD4Nef",
        "colab_type": "code",
        "outputId": "033ad0dd-83d4-44a3-94e7-639dd8410059",
        "colab": {
          "base_uri": "https://localhost:8080/",
          "height": 102
        }
      },
      "source": [
        "genre = 'Bluegrass'    #The genre represents the style of music\n",
        "artist = 'Greensky Bluegrass'#Artist name is attributed to the \"artist\" variable \n",
        "song = 'No Idea'  # \"song\" variable relates to the title of the track\n",
        "durationinseconds = 314  #Duration corrisponds to length\n",
        "firstpoint = 2.45 #float variable \n",
        "print(artist)\n",
        "print(song)\n",
        "print(genre)\n",
        "print(durationinseconds) \n",
        "print(firstpoint)"
      ],
      "execution_count": 0,
      "outputs": [
        {
          "output_type": "stream",
          "text": [
            "Greensky Bluegrass\n",
            "No Idea\n",
            "Bluegrass\n",
            "314\n",
            "2.45\n"
          ],
          "name": "stdout"
        }
      ]
    },
    {
      "cell_type": "code",
      "metadata": {
        "id": "Dv3kZcK--ubs",
        "colab_type": "code",
        "outputId": "083cab18-20b2-40ce-e000-c2b3b2ee1004",
        "colab": {
          "base_uri": "https://localhost:8080/",
          "height": 51
        }
      },
      "source": [
        "SongList = []\n",
        "# for i in range(3):\n",
        "#   Song = input('Please enter your song: ')\n",
        "#   SongList.append(Song)\n",
        "\n",
        "SongSet = set(SongList)\n",
        "print(SongList)\n",
        "print(SongSet)\n",
        "\n",
        "if 'No Idea' in SongSet:\n",
        "  print('Attended')"
      ],
      "execution_count": 0,
      "outputs": [
        {
          "output_type": "stream",
          "text": [
            "[]\n",
            "set()\n"
          ],
          "name": "stdout"
        }
      ]
    },
    {
      "cell_type": "code",
      "metadata": {
        "id": "Q_HmCR_x9-v0",
        "colab_type": "code",
        "outputId": "7b598d91-5785-4508-f4fc-4154f6600e71",
        "colab": {
          "base_uri": "https://localhost:8080/",
          "height": 34
        }
      },
      "source": [
        "# Dictionary = {'Key':'Value','Key2':'Value2','Key3':'Value3'}\n",
        "songList = []\n",
        "songDictionary = {'genre':'bluegrass', 'artist':'Greensky', 'song':'No Idea'}\n",
        "for song in SongList:\n",
        "  Song = input('Please enter your song: ')\n",
        "  \n",
        "  if song in songDictionary:\n",
        "    songDictionary[Song] += 1\n",
        "  else:\n",
        "    songDictionary[Song] = 1 #adding key:value pair {'US' : 1}\n",
        "\n",
        "print(songDictionary)"
      ],
      "execution_count": 0,
      "outputs": [
        {
          "output_type": "stream",
          "text": [
            "{'genre': 'bluegrass', 'artist': 'Greensky', 'song': 'No Idea'}\n"
          ],
          "name": "stdout"
        }
      ]
    },
    {
      "cell_type": "markdown",
      "metadata": {
        "id": "wSjzXYr1Hg2X",
        "colab_type": "text"
      },
      "source": [
        "**I/O**"
      ]
    },
    {
      "cell_type": "code",
      "metadata": {
        "id": "W13URz1LHo7U",
        "colab_type": "code",
        "colab": {}
      },
      "source": [
        "# var = input('Message to user')\n",
        "# Name = input('Please enter your name: ')\n",
        "# print(Name)\n",
        "\n",
        "# Age = input('Please enter your age:  ')\n",
        "# print(str(Age) + \"1\")\n",
        "\n",
        "Scores = []\n",
        "\n",
        "for i in range(5):\n",
        "  currentScore = float(input('Please enter the score ' +str(i+1)+\": \"))     # int float str\n",
        "\n",
        "  Scores.append(currentScore)\n",
        "  print('The score you entered bruh was:\\n'+str(currentScore))\n",
        "  print()\n",
        "\n",
        "print(\"Our list of Scores contains\",Scores)\n"
      ],
      "execution_count": 0,
      "outputs": []
    },
    {
      "cell_type": "code",
      "metadata": {
        "id": "3d2KwAQZP7M9",
        "colab_type": "code",
        "colab": {}
      },
      "source": [
        "'''HOW TO INTERACT WITH FILES ON YOUR COMPUTER'''\n",
        "\n",
        "# File = open(\"Filename\",\"r\") 'r'read. 'w' write. 'a'append. 'r+' read and write\n",
        "# File.close()\n",
        "\n",
        "VacationSpots = ['London', 'Paris', 'New York','Utah','Iceland']\n",
        "\n",
        "VacationFile = open('VacationPlaces', 'w')\n",
        "\n",
        "for Spots in VacationSpots:\n",
        "  VacationFile.write(str(Spots +\"\\n\"))  #must be a string  \"+ ,\"\n",
        "\n",
        "VacationFile.close()\n",
        "\n",
        "VacationFile = open('VacationPlaces', 'r')\n",
        "\n",
        "FirstLine = VacationFile.readline()\n",
        "print(FirstLine)\n",
        "SecondLine = VacationFile.readline()\n",
        "print(SecondLine)\n",
        "for line in VacationFile:\n",
        "  print(line, end = \"\")\n",
        "\n",
        "# TheWholeFile = VacationFile.read()\n",
        "# print(TheWholeFile)\n",
        "\n",
        "VacationFile.close()  #good practice to close the file \n",
        "\n",
        "FinalSpot = \"Thailand\\n\"\n",
        "\n",
        "VacationFile = open('VacationPlaces', 'a') #append reads out the list first with appended variable at the end. write just adds the variable to the end of the string without reading it first\n",
        "VacationFile.write(FinalSpot)\n",
        "VacationFile.close()\n",
        "\n",
        "VacationFile = open('VacationPlaces','r')\n",
        "for line in VacationFile:\n",
        "  print(line, end = \"\")\n",
        "\n",
        "VacationFile.close()\n",
        "for i in range(5):\n",
        "  with open('VacationPlaces', 'r') as VacationFile:   #with statement closes file automatically\n",
        "    for line in VacationFile:\n",
        "      print(line)\n",
        "\n",
        "# VacationFile.read()"
      ],
      "execution_count": 0,
      "outputs": []
    },
    {
      "cell_type": "markdown",
      "metadata": {
        "id": "PoGgu9EHhBkw",
        "colab_type": "text"
      },
      "source": [
        "**Tic Tac Toe**"
      ]
    },
    {
      "cell_type": "code",
      "metadata": {
        "id": "T7RG0Q63mMdR",
        "colab_type": "code",
        "colab": {}
      },
      "source": [
        "'''\n",
        "Draws a tic tac toe field\n",
        "'''\n",
        "\n",
        "def drawField(field):\n",
        "  for row in range(5):\n",
        "    if row%2 == 0:\n",
        "      practicalRow = int(row/2)\n",
        "      for column in range(5):\n",
        "        if column%2 == 0:\n",
        "          practicalColumn = int(column/2)\n",
        "          if column != 4:\n",
        "            print(field[practicalColumn][practicalRow],end='')\n",
        "          else:\n",
        "            print(field[practicalColumn][practicalRow])\n",
        "        else:\n",
        "          print('|', end = '')\n",
        "    else:\n",
        "      print('-----')\n",
        "\n",
        "player = 1\n",
        "currentField = [[' ',' ',' '],[' ',' ',' '] , [' ',' ',' ']]   #corospends to rows and columns. element1 element2 element3\n",
        "drawField(currentField)\n",
        "while(True):\n",
        "  print('Players turn: ', player)\n",
        "  moveRow = int(input('Please enter the row\\n'))\n",
        "  moveColumn = int(input('Please enter the column\\n'))\n",
        "  if player == 1: \n",
        "    if currentField[moveColumn][moveRow] == ' ':  #make move for player 1\n",
        "      currentField[moveColumn][moveRow] = 'x'\n",
        "      player = 2\n",
        "  else:    #make move for player 2\n",
        "    if currentField[moveColumn][moveRow] == ' ':\n",
        "      currentField[moveColumn][moveRow] = 'o'\n",
        "      player = 1\n",
        "  drawField(currentField)\n",
        "                 \n"
      ],
      "execution_count": 0,
      "outputs": []
    },
    {
      "cell_type": "code",
      "metadata": {
        "id": "y_pbJHxSl6H1",
        "colab_type": "code",
        "colab": {}
      },
      "source": [
        ""
      ],
      "execution_count": 0,
      "outputs": []
    },
    {
      "cell_type": "code",
      "metadata": {
        "id": "ktgG2QtDpETA",
        "colab_type": "code",
        "outputId": "27270f90-7895-4687-958a-2095e069e04a",
        "colab": {
          "base_uri": "https://localhost:8080/",
          "height": 204
        }
      },
      "source": [
        "'''Prticipant data'''\n",
        "\n",
        "participantNumber = 2\n",
        "participantData = []\n",
        "registeredParticipants = 0\n",
        "outputFile = open('participantData.txt','w')\n",
        "\n",
        "while(registeredParticipants < participantNumber):\n",
        "  tempPartData = []\n",
        "  name = input('Enter your name bruh: ')\n",
        "  tempPartData.append(name)\n",
        "  country = input('Now enter your country of origin bruh: ')\n",
        "  tempPartData.append(country)\n",
        "  age = int(input('Enter your age represented as a number'))\n",
        "  tempPartData.append(age)\n",
        "  print(tempPartData)\n",
        "  participantData.append(tempPartData)\n",
        "  print(participantData)\n",
        "  registeredParticipants += 1\n",
        "\n",
        "for participant in participantData:\n",
        "  for data in participant:\n",
        "    outputFile.write(str(data))   # convert int to str\n",
        "    outputFile.write(\" \")\n",
        "\n",
        "  outputFile.write('\\n')\n",
        "\n",
        "# inputFile = open('ParticipantData.txt','r')\n",
        "\n",
        "# squares = []\n",
        "# for x in range(10):\n",
        "#      squares.append(x**2)\n",
        "\n",
        "# squares\n",
        "# [0, 1, 4, 9, 16, 25, 36, 49, 64, 81]\n",
        "\n",
        "inputList = []\n",
        "for list in inputList:\n",
        "  tempParticipant = line.strip('\\n').split()\n",
        "  print(tempParticipant)\n",
        "  inputList.append(tempParticipant)\n",
        "  print(inputList)\n",
        "\n",
        "# age = []\n",
        "# for part in inputList:\n",
        "#     tempAge = int(part[-1])\n",
        "#     if tempAge in age:\n",
        "#       age[tempAge] += 1\n",
        "#     else:\n",
        "#       age[tempAge] = 1\n",
        "\n",
        "# oldest = 0\n",
        "# youngest = 100\n",
        "# mostOccuringAge = 0\n",
        "# counter = 0 \n",
        "# for tempAge in age:\n",
        "#   if tempAge > oldest:\n",
        "#     Oldest = tempAge\n",
        "#   if tempAge < youngest:\n",
        "#     youngest = tempAge\n",
        "\n",
        "# print(oldest) \n",
        "\n",
        "print(age)\n",
        "\n",
        "\n",
        "\n",
        "\n"
      ],
      "execution_count": 0,
      "outputs": [
        {
          "output_type": "stream",
          "text": [
            "Enter your name bruh: asd\n",
            "Now enter your country of origin bruh: asd\n",
            "Enter your age represented as a number32\n",
            "['asd', 'asd', 32]\n",
            "[['asd', 'asd', 32]]\n",
            "Enter your name bruh: ads\n",
            "Now enter your country of origin bruh: asd\n",
            "Enter your age represented as a number34\n",
            "['ads', 'asd', 34]\n",
            "[['asd', 'asd', 32], ['ads', 'asd', 34]]\n",
            "34\n"
          ],
          "name": "stdout"
        }
      ]
    },
    {
      "cell_type": "code",
      "metadata": {
        "id": "_17eZyq9hfPE",
        "colab_type": "code",
        "outputId": "6d0ee4a0-3461-4e19-de9e-e7bff8b91e15",
        "colab": {
          "base_uri": "https://localhost:8080/",
          "height": 34
        }
      },
      "source": [
        "print(inputList)"
      ],
      "execution_count": 0,
      "outputs": [
        {
          "output_type": "stream",
          "text": [
            "[]\n"
          ],
          "name": "stdout"
        }
      ]
    },
    {
      "cell_type": "code",
      "metadata": {
        "id": "uonK4KYJqme0",
        "colab_type": "code",
        "outputId": "4c627735-b7c6-4744-f302-e261c9d576cd",
        "colab": {
          "base_uri": "https://localhost:8080/",
          "height": 34
        }
      },
      "source": [
        "age = []\n",
        "for part in inputList:\n",
        "    tempAge = int(part[-1])\n",
        "    if tempAge in age:\n",
        "      age[tempAge] += 1\n",
        "    else:\n",
        "      age[tempAge] = 1\n",
        "print(age)"
      ],
      "execution_count": 0,
      "outputs": [
        {
          "output_type": "stream",
          "text": [
            "{}\n"
          ],
          "name": "stdout"
        }
      ]
    },
    {
      "cell_type": "code",
      "metadata": {
        "id": "8Uxd_kqNhzJI",
        "colab_type": "code",
        "outputId": "1fdc3b6e-48b0-4213-b440-e16016fe1ba9",
        "colab": {
          "base_uri": "https://localhost:8080/",
          "height": 34
        }
      },
      "source": [
        "oldest = 0\n",
        "youngest = 100\n",
        "mostOccuringAge = 0\n",
        "counter = 0 \n",
        "for tempAge in age:\n",
        "  if tempAge > oldest:\n",
        "    Oldest = tempAge\n",
        "  if tempAge < youngest:\n",
        "    youngest = tempAge\n",
        "\n",
        "print(oldest)    "
      ],
      "execution_count": 0,
      "outputs": [
        {
          "output_type": "stream",
          "text": [
            "0\n"
          ],
          "name": "stdout"
        }
      ]
    },
    {
      "cell_type": "code",
      "metadata": {
        "id": "2kK4Br4We3Lf",
        "colab_type": "code",
        "outputId": "99e00e40-a76e-473d-ea5c-c0e0a254f49e",
        "colab": {
          "base_uri": "https://localhost:8080/",
          "height": 34
        }
      },
      "source": [
        "inputFile = open('ParticipantData.txt','r')\n",
        "inputList = []\n",
        "\n",
        "for line in inputFile:\n",
        "  tempParticipant = line.strip('\\n').split()\n",
        "  print(tempParticipant)\n",
        "  inputList.append(tempParticipant)\n",
        "  print(inputList)\n",
        "\n",
        "age = {}\n",
        "for part in inputList:\n",
        "  tempAge = int(part[-1])\n",
        "  if tempAge in age:\n",
        "    age[tempAge] += 1\n",
        "  else:\n",
        "    age[tempAge] = 1\n",
        "\n",
        "print(age)\n",
        "\n",
        "inputFile.close()"
      ],
      "execution_count": 0,
      "outputs": [
        {
          "output_type": "stream",
          "text": [
            "{}\n"
          ],
          "name": "stdout"
        }
      ]
    },
    {
      "cell_type": "code",
      "metadata": {
        "id": "19bXyigEdZ51",
        "colab_type": "code",
        "outputId": "d30b42ff-5e58-49e4-871f-b8618994c0ac",
        "colab": {
          "base_uri": "https://localhost:8080/",
          "height": 34
        }
      },
      "source": [
        "open('participantData.txt','w')"
      ],
      "execution_count": 0,
      "outputs": [
        {
          "output_type": "execute_result",
          "data": {
            "text/plain": [
              "<_io.TextIOWrapper name='participantData.txt' mode='w' encoding='UTF-8'>"
            ]
          },
          "metadata": {
            "tags": []
          },
          "execution_count": 5
        }
      ]
    },
    {
      "cell_type": "code",
      "metadata": {
        "id": "GUTErJh3psZd",
        "colab_type": "code",
        "colab": {}
      },
      "source": [
        "inputFile = open('participantData.txt','r')\n",
        "inputList = []\n",
        "\n",
        "for line in inputFile:\n",
        "  tempParticipant = line.strip('\\n').split()  #split makes every space in a list a new line\n",
        "  # print(testParticipant)\n",
        "  inputList.append(tempParticipant)\n",
        "  # print(inputList)\n",
        "\n",
        "age = {}\n",
        "print(inputList)\n",
        "for part in inputList:\n",
        "  tempAge = int(part[-1])\n",
        "  if tempAge in age:\n",
        "    age[tempage] = 1\n",
        "\n",
        "print(age)\n",
        "\n",
        "countries = {}\n",
        "\n",
        "for part in inputList:\n",
        "  tempAge = int(part[-1])\n",
        "  if part[-1] in age:\n",
        "    tempCountry = part[1]\n",
        "  if tempCountry in age:\n",
        "    countries[tempCountry] += 1\n",
        "  else:\n",
        "    countries[tempCountry] = 1\n",
        "\n",
        "print('Countries that attended: ', country)\n",
        "oldest = 0\n",
        "youngest = 100\n",
        "mostOccuringAge = 0\n",
        "counter = 0\n",
        "\n",
        "for tempAge in age:\n",
        "  if tempAge > oldest:\n",
        "    oldest = tempAge\n",
        "  if tempAge < youngest:\n",
        "    youngest = tempAge\n",
        "  if age[tempAge]>counter:\n",
        "    counter = age[tempAge]\n",
        "    mostOccuringAge = tempAge\n",
        "\n",
        "print(oldest)\n",
        "print(youngest)\n",
        "print('Most occuring age is:', mostOccuringAge, \"with\", counter, 'participants')\n",
        "\n",
        "inputFile.close()"
      ],
      "execution_count": 0,
      "outputs": []
    },
    {
      "cell_type": "code",
      "metadata": {
        "id": "qTDOQFE44Y8D",
        "colab_type": "code",
        "colab": {}
      },
      "source": [
        "'''I/O TEST'''\n",
        "# list = [1,2]\n",
        "# for i in list:\n",
        "#     print(i)\n",
        "\n",
        "# age = input(\"Enter your age: \")\n",
        "# age += \"6\"\n",
        "# print(age)\n",
        "\n",
        "# f = open(\"test.txt\")\n",
        "\n",
        "# myFile = open(\"myFile\",\"r\")\n",
        "# Line = myFile.readline()\n",
        "# Line = myFile.readline()\n",
        "# print(Line)"
      ],
      "execution_count": 0,
      "outputs": []
    },
    {
      "cell_type": "code",
      "metadata": {
        "id": "J_Sv2sLq0GP5",
        "colab_type": "code",
        "outputId": "7e413274-d044-493b-92e8-a2e54dd13ba9",
        "colab": {
          "base_uri": "https://localhost:8080/",
          "height": 204
        }
      },
      "source": [
        "'''Append: Adds its argument as a single element to the end of a list. \n",
        "The length of the list increases by one'''\n",
        "\n",
        "my_list = ['geeks', 'for'] \n",
        "my_list.append('geeks') \n",
        "print(my_list,'\\n')\n",
        "\n",
        "my_list = ['geeks', 'for', 'geeks'] \n",
        "another_list = [6, 0, 4, 1] \n",
        "my_list.append(another_list) \n",
        "print(my_list,'\\n')\n",
        "print('append','\\n')\n",
        "\n",
        "'''extend(): Iterates over its argument and adding each element to the list and \n",
        "extending the list. The length of the list increases by number of elements in \n",
        "it’s argument. Time Complexity:\n",
        "Append has constant time complexity i.e.,O(1).\n",
        "Extend has time complexity of O(k). Where k is the length of list which need \n",
        "to be added.'''\n",
        "\n",
        "my_list = ['geeks', 'for'] \n",
        "another_list = [6, 0, 4, 1] \n",
        "my_list.extend(another_list) \n",
        "print(my_list,'\\n')\n",
        "\n",
        "my_list = ['geeks', 'for', 6, 0, 4, 1] \n",
        "my_list.extend('geeks') \n",
        "print(my_list,'\\n')\n",
        "print('extend')\n"
      ],
      "execution_count": 0,
      "outputs": [
        {
          "output_type": "stream",
          "text": [
            "['geeks', 'for', 'geeks'] \n",
            "\n",
            "['geeks', 'for', 'geeks', [6, 0, 4, 1]] \n",
            "\n",
            "append \n",
            "\n",
            "['geeks', 'for', 6, 0, 4, 1] \n",
            "\n",
            "['geeks', 'for', 6, 0, 4, 1, 'g', 'e', 'e', 'k', 's'] \n",
            "\n",
            "extend\n"
          ],
          "name": "stdout"
        }
      ]
    },
    {
      "cell_type": "code",
      "metadata": {
        "id": "3X1IGKF5t_vE",
        "colab_type": "code",
        "outputId": "1bff40a6-f891-4df1-94be-06951ba2d833",
        "colab": {
          "base_uri": "https://localhost:8080/",
          "height": 435
        }
      },
      "source": [
        "'''Note_writer.py by Andrew Hasler 2020.\n",
        "The program asks the user to to enter their name then write any input data to\n",
        "a file they name\n",
        "'''\n",
        "\n",
        "import random\n",
        "def main():\n",
        "  programName = []\n",
        "  programFile = open('fileName', 'w')\n",
        "  name = input('Welcome user, please tell me your name: ')\n",
        "  print('Input name has cleared all databases')\n",
        "  print()\n",
        "  fileName = (input('What would you like to name your file?: '))\n",
        "  programName.append(fileName)\n",
        "  found = False \n",
        "  while  not found:\n",
        "    fileInput = input('I am ready to write information into your file. Enter those notes now')\n",
        "    for line in fileInput:\n",
        "      programFile = line.strip('\\n').split()\n",
        "      print(programFile)\n",
        "      fileInput.append(fileInput)\n",
        "      print(programFile)\n",
        "\n",
        "\n",
        "\n",
        "    # programName.append[fileInput]\n",
        "    print('Ok')\n",
        "  while found:\n",
        "    print('That file already exists. Would you like too')\n",
        "    editInput = input('A. Read B. Delete and save C. Append the file?')\n",
        "  # print('Ok. Your program will be called: ', programName)\n",
        "    if editInput == A:\n",
        "      print()\n",
        "\n",
        "  for file in fileInput:\n",
        "    for data in programFile:\n",
        "      programFile.write(str(data))   # convert int to str\n",
        "      programFile.write(\" \")\n",
        "\n",
        "if __name__ == \"__main__\":\n",
        "    main()\n",
        "\n"
      ],
      "execution_count": 0,
      "outputs": [
        {
          "output_type": "stream",
          "text": [
            "Welcome user, please tell me your name: asdasd\n",
            "Input name has cleared all databases\n",
            "\n",
            "What would you like to name your file?: asdasd\n",
            "I am ready to write information into your file. Enter those notes nowasd\n",
            "['a']\n"
          ],
          "name": "stdout"
        },
        {
          "output_type": "error",
          "ename": "AttributeError",
          "evalue": "ignored",
          "traceback": [
            "\u001b[0;31m---------------------------------------------------------------------------\u001b[0m",
            "\u001b[0;31mAttributeError\u001b[0m                            Traceback (most recent call last)",
            "\u001b[0;32m<ipython-input-24-b73c3f5aecfa>\u001b[0m in \u001b[0;36m<module>\u001b[0;34m()\u001b[0m\n\u001b[1;32m     39\u001b[0m \u001b[0;34m\u001b[0m\u001b[0m\n\u001b[1;32m     40\u001b[0m \u001b[0;32mif\u001b[0m \u001b[0m__name__\u001b[0m \u001b[0;34m==\u001b[0m \u001b[0;34m\"__main__\"\u001b[0m\u001b[0;34m:\u001b[0m\u001b[0;34m\u001b[0m\u001b[0;34m\u001b[0m\u001b[0m\n\u001b[0;32m---> 41\u001b[0;31m     \u001b[0mmain\u001b[0m\u001b[0;34m(\u001b[0m\u001b[0;34m)\u001b[0m\u001b[0;34m\u001b[0m\u001b[0;34m\u001b[0m\u001b[0m\n\u001b[0m\u001b[1;32m     42\u001b[0m \u001b[0;34m\u001b[0m\u001b[0m\n",
            "\u001b[0;32m<ipython-input-24-b73c3f5aecfa>\u001b[0m in \u001b[0;36mmain\u001b[0;34m()\u001b[0m\n\u001b[1;32m     19\u001b[0m       \u001b[0mprogramFile\u001b[0m \u001b[0;34m=\u001b[0m \u001b[0mline\u001b[0m\u001b[0;34m.\u001b[0m\u001b[0mstrip\u001b[0m\u001b[0;34m(\u001b[0m\u001b[0;34m'\\n'\u001b[0m\u001b[0;34m)\u001b[0m\u001b[0;34m.\u001b[0m\u001b[0msplit\u001b[0m\u001b[0;34m(\u001b[0m\u001b[0;34m)\u001b[0m\u001b[0;34m\u001b[0m\u001b[0;34m\u001b[0m\u001b[0m\n\u001b[1;32m     20\u001b[0m       \u001b[0mprint\u001b[0m\u001b[0;34m(\u001b[0m\u001b[0mprogramFile\u001b[0m\u001b[0;34m)\u001b[0m\u001b[0;34m\u001b[0m\u001b[0;34m\u001b[0m\u001b[0m\n\u001b[0;32m---> 21\u001b[0;31m       \u001b[0mfileInput\u001b[0m\u001b[0;34m.\u001b[0m\u001b[0mappend\u001b[0m\u001b[0;34m(\u001b[0m\u001b[0mfileInput\u001b[0m\u001b[0;34m)\u001b[0m\u001b[0;34m\u001b[0m\u001b[0;34m\u001b[0m\u001b[0m\n\u001b[0m\u001b[1;32m     22\u001b[0m       \u001b[0mprint\u001b[0m\u001b[0;34m(\u001b[0m\u001b[0mprogramFile\u001b[0m\u001b[0;34m)\u001b[0m\u001b[0;34m\u001b[0m\u001b[0;34m\u001b[0m\u001b[0m\n\u001b[1;32m     23\u001b[0m \u001b[0;34m\u001b[0m\u001b[0m\n",
            "\u001b[0;31mAttributeError\u001b[0m: 'str' object has no attribute 'append'"
          ]
        }
      ]
    },
    {
      "cell_type": "code",
      "metadata": {
        "id": "Bq2vp6ww38tr",
        "colab_type": "code",
        "colab": {}
      },
      "source": [
        ""
      ],
      "execution_count": 0,
      "outputs": []
    },
    {
      "cell_type": "markdown",
      "metadata": {
        "id": "dKSaesXtXxgo",
        "colab_type": "text"
      },
      "source": [
        "Homework Assignment #8: Input and Output (I/O)\n",
        "\n",
        "\n",
        "Details:\n",
        " \n",
        "Create a note-taking program. When a user starts it up, it should prompt them for a filename.\n",
        "\n",
        "If they enter a file name that doesn't exist, it should prompt them to enter the text they want to write to the file. After they enter the text, it should save the file and exit.\n",
        "\n",
        "If they enter a file name that already exists, it should ask the user if they want:\n",
        "\n",
        "A) Read the file\n",
        "\n",
        "B) Delete the file and start over\n",
        "\n",
        "C) Append the file\n",
        "\n",
        "If the user wants to read the file it should simply show the contents of the file on the screen. If the user wants to start over then the file should be deleted and another empty one made in its place. If a user elects to append the file, then they should be able to enter more text, and that text should be added to the existing text in the file. \n",
        "\n",
        "\n",
        "\n",
        "Extra Credit:\n",
        "\n",
        "Allow the user to select a 4th option:\n",
        "\n",
        "D) Replace a single line\n",
        "\n",
        "If the user wants to replace a single line in the file, they will then need to be prompted for 2 bits of information:\n",
        "\n",
        "1) The line number they want to update.\n",
        "\n",
        "2) The text that should replace that line."
      ]
    },
    {
      "cell_type": "code",
      "metadata": {
        "id": "06SsDInQ2ntB",
        "colab_type": "code",
        "outputId": "48bb3a32-4fc8-4bba-af3c-e16fd0a236c9",
        "colab": {
          "base_uri": "https://localhost:8080/",
          "height": 68
        }
      },
      "source": [
        "'''Create a note-taking program. When a user starts the program up, it prompts\n",
        "   them for a filename.\n",
        "\n",
        "'''\n",
        "\n",
        "\n",
        "name = input('With whom am I speaking?: ')\n",
        "\n",
        "userStart = input('Shall I start this program?: ')\n",
        "noteTake = input('Let''s take some notes!:' )\n",
        "userList = []\n",
        "userFile = open('NoteProgram.txt', 'w')\n",
        "\n",
        "while (noteTake ==  True):\n",
        "  userNote = []\n",
        "  name = input('Hello user, please enter your name: ')\n",
        "  userList.append[name]\n",
        "\n",
        "\n",
        "\n",
        "\n",
        "\n",
        "\n",
        "\n",
        "\n",
        "# for Take in noteTake:\n",
        "#   userFile.write(str(Take +\"\\n\"))  #must be a string  \"+ ,\"\n",
        "# userFile.close()\n",
        "\n"
      ],
      "execution_count": 0,
      "outputs": [
        {
          "output_type": "stream",
          "text": [
            "With whom am I speaking?: Andrew\n",
            "Shall I start this program?: yes\n",
            "Lets take some notes!:ok\n"
          ],
          "name": "stdout"
        }
      ]
    },
    {
      "cell_type": "code",
      "metadata": {
        "id": "riyHfQO64thP",
        "colab_type": "code",
        "colab": {}
      },
      "source": [
        "\n",
        "VacationSpots = ['London', 'Paris', 'New York','Utah','Iceland']\n",
        "\n",
        "VacationFile = open('VacationPlaces', 'w')\n",
        "\n",
        "for Spots in VacationSpots:\n",
        "  VacationFile.write(str(Spots +\"\\n\"))  #must be a string  \"+ ,\"\n",
        "\n",
        "VacationFile.close()\n",
        "\n",
        "VacationFile = open('VacationPlaces', 'r')\n",
        "\n",
        "FirstLine = VacationFile.readline()\n",
        "print(FirstLine)\n",
        "SecondLine = VacationFile.readline()\n",
        "print(SecondLine)\n",
        "for line in VacationFile:\n",
        "  print(line, end = \"\")\n",
        "\n",
        "\n",
        "participantNumber = 2\n",
        "userPromt = []\n",
        "registeredParticipants = 0\n",
        "outputFile = open('participantData.txt','w')\n",
        "\n",
        "while(registeredParticipants < participantNumber):\n",
        "  tempPartData = []\n",
        "  name = input('Enter your name bruh: ')\n",
        "  tempPartData.append(name)\n",
        "  country = input('Now enter your country of origin bruh: ')\n",
        "  tempPartData.append(country)\n",
        "  age = int(input('Enter your age'))\n",
        "  tempPartData.append(age)\n",
        "  print(tempPartData)\n",
        "  participantData.append(tempPartData)\n",
        "  print(participantData)\n",
        "  registeredParticipants += 1\n",
        "\n",
        "for participant in participantData:\n",
        "  for data in participant:\n",
        "    outputFile.write(str(data))   # convert int to str\n",
        "    outputFile.write(\" \")\n",
        "\n",
        "  outputFile.write('\\n')\n",
        " \n",
        "outputFile.close()\n"
      ],
      "execution_count": 0,
      "outputs": []
    },
    {
      "cell_type": "code",
      "metadata": {
        "id": "LL2F3juubgQ9",
        "colab_type": "code",
        "outputId": "873be4cf-edaa-47d8-9c87-8022d4ff35f4",
        "colab": {
          "base_uri": "https://localhost:8080/",
          "height": 340
        }
      },
      "source": [
        " '''Number guessing game''' \n",
        " import random\n",
        "#initialize the program\n",
        "name = input('Please tell me your name: ')\n",
        "print('Adding the name', name, 'to my database.')\n",
        "print('Ok', name, 'guess a number between 1 and 100')\n",
        "randomNumber = random.randint(1,100)\n",
        "found = False\n",
        "guesses = 0\n",
        "# run through the guessing process\n",
        "while not found:\n",
        "   userGuess = int(input('Your guess: '))\n",
        "   if userGuess == randomNumber:\n",
        "     print('You got it!')\n",
        "     print('The number was', randomNumber)\n",
        "     found = True\n",
        "     print(\"Congratulations and Goodbye\", name)\n",
        "   elif userGuess > randomNumber:\n",
        "     print('Guess lower!')\n",
        "     guesses += 1\n",
        "   else:\n",
        "     print('Guess higher!')\n",
        "     guesses += 1\n",
        "\n",
        "if guesses == 5:\n",
        "  print('You have guessed enough bruh go home')"
      ],
      "execution_count": 0,
      "outputs": [
        {
          "output_type": "stream",
          "text": [
            "Please tell me your name: asd\n",
            "Adding the name asd to my database.\n",
            "Ok asd guess a number between 1 and 100\n",
            "Your guess: 50\n",
            "Guess lower!\n",
            "Your guess: 30\n",
            "Guess lower!\n",
            "Your guess: 10\n",
            "Guess higher!\n",
            "Your guess: 20\n",
            "Guess lower!\n",
            "Your guess: 15\n",
            "Guess lower!\n",
            "Your guess: 12\n",
            "Guess higher!\n",
            "Your guess: 13\n",
            "You got it!\n",
            "The number was 13\n",
            "Congratulations and Goodbye asd\n"
          ],
          "name": "stdout"
        }
      ]
    }
  ]
}